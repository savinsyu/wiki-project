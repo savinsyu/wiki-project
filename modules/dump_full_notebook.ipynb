{
 "cells": [
  {
   "cell_type": "code",
   "execution_count": 8,
   "id": "f5434fa8-1fa1-48a6-9204-9a6c53e22de2",
   "metadata": {},
   "outputs": [
    {
     "name": "stdout",
     "output_type": "stream",
     "text": [
      "Файл базы данных существует\n",
      "Полный дамп базы данных готов!!\n",
      "Дамп базы данных готов!!\n"
     ]
    }
   ],
   "source": [
    "import sqlite3\n",
    "import io\n",
    "import os.path\n",
    "\n",
    "path_to_check = \"../database.db\"\n",
    "if os.path.exists(path_to_check):\n",
    "    print(\"Файл базы данных существует\")\n",
    "    conn = sqlite3.connect('../database.db')\n",
    "    b_conn = sqlite3.connect('../backup.db')\n",
    "    conn.backup(b_conn)\n",
    "    b_conn.close()\n",
    "    print('Полный дамп базы данных готов!!')\n",
    "    conn.close()\n",
    "    conn = sqlite3.connect(\"../database.db\")\n",
    "    conn.row_factory = sqlite3.Row\n",
    "    # RUS Сохраняем в файл дамп базы данных (папка dump)\n",
    "    # ENG Save the database dump to a file (dump folder)\n",
    "    with io.open(\"../database_dump.sql\", 'w') as p:\n",
    "        # iterdump() function\n",
    "        for line in conn.iterdump():\n",
    "            p.write('%s\\n' % line)\n",
    "\n",
    "    print('Дамп базы данных готов!!')\n",
    "    conn.close()\n",
    "else:\n",
    "    print(\"Файл базы данных не существует.\")"
   ]
  }
 ],
 "metadata": {
  "kernelspec": {
   "display_name": "Python 3 (ipykernel)",
   "language": "python",
   "name": "python3"
  },
  "language_info": {
   "codemirror_mode": {
    "name": "ipython",
    "version": 3
   },
   "file_extension": ".py",
   "mimetype": "text/x-python",
   "name": "python",
   "nbconvert_exporter": "python",
   "pygments_lexer": "ipython3",
   "version": "3.12.7"
  }
 },
 "nbformat": 4,
 "nbformat_minor": 5
}
