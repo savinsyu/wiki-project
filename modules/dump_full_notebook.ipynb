{
 "cells": [
  {
   "cell_type": "code",
   "execution_count": 8,
   "id": "f5434fa8-1fa1-48a6-9204-9a6c53e22de2",
   "metadata": {},
   "outputs": [
    {
     "name": "stdout",
     "output_type": "stream",
     "text": [
      "Файл базы данных существует\n",
      "Полный дамп базы данных готов!!\n",
      "Дамп базы данных готов!!\n"
     ]
    }
   ],
   "source": [
    "import sqlite3\n",
    "import io\n",
    "import os.path\n",
    "\n",
    "path_to_check = \"../database.db\"\n",
    "if os.path.exists(path_to_check):\n",
    "    print(\"Файл базы данных существует\")\n",
    "    conn = sqlite3.connect('../database.db')\n",
    "    b_conn = sqlite3.connect('../backup.db')\n",
    "    conn.backup(b_conn)\n",
    "    b_conn.close()\n",
    "    print('Полный дамп базы данных готов!!')\n",
    "    conn.close()\n",
    "    conn = sqlite3.connect(\"../database.db\")\n",
    "    conn.row_factory = sqlite3.Row\n",
    "    # RUS Сохраняем в файл дамп базы данных (папка dump)\n",
    "    # ENG Save the database dump to a file (dump folder)\n",
    "    with io.open(\"../database_dump.sql\", 'w') as p:\n",
    "        # iterdump() function\n",
    "        for line in conn.iterdump():\n",
    "            p.write('%s\\n' % line)\n",
    "\n",
    "    print('Дамп базы данных готов!!')\n",
    "    conn.close()\n",
    "else:\n",
    "    print(\"Файл базы данных не существует.\")"
   ]
  },
  {
   "cell_type": "code",
   "execution_count": 3,
   "id": "33f44f4e-6ac4-42af-a281-f8c18f44052d",
   "metadata": {},
   "outputs": [
    {
     "ename": "ModuleNotFoundError",
     "evalue": "No module named 'modules'",
     "output_type": "error",
     "traceback": [
      "\u001b[1;31m---------------------------------------------------------------------------\u001b[0m",
      "\u001b[1;31mModuleNotFoundError\u001b[0m                       Traceback (most recent call last)",
      "Cell \u001b[1;32mIn[3], line 30\u001b[0m\n\u001b[0;32m     27\u001b[0m         df_cli_list\u001b[38;5;241m.\u001b[39mto_excel(writer, sheet_name\u001b[38;5;241m=\u001b[39m\u001b[38;5;124m'\u001b[39m\u001b[38;5;124mCLI\u001b[39m\u001b[38;5;124m'\u001b[39m, header\u001b[38;5;241m=\u001b[39m\u001b[38;5;28;01mFalse\u001b[39;00m, index\u001b[38;5;241m=\u001b[39m\u001b[38;5;28;01mFalse\u001b[39;00m)\n\u001b[0;32m     28\u001b[0m     conn\u001b[38;5;241m.\u001b[39mclose()\n\u001b[1;32m---> 30\u001b[0m dump_and_excel_download()\n",
      "Cell \u001b[1;32mIn[3], line 3\u001b[0m, in \u001b[0;36mdump_and_excel_download\u001b[1;34m()\u001b[0m\n\u001b[0;32m      1\u001b[0m \u001b[38;5;28;01mdef\u001b[39;00m \u001b[38;5;21mdump_and_excel_download\u001b[39m():\n\u001b[0;32m      2\u001b[0m     \u001b[38;5;28;01mimport\u001b[39;00m \u001b[38;5;21;01mpandas\u001b[39;00m \u001b[38;5;28;01mas\u001b[39;00m \u001b[38;5;21;01mpd\u001b[39;00m\n\u001b[1;32m----> 3\u001b[0m     \u001b[38;5;28;01mfrom\u001b[39;00m \u001b[38;5;21;01mmodules\u001b[39;00m \u001b[38;5;28;01mimport\u001b[39;00m connect\n\u001b[0;32m      4\u001b[0m     \u001b[38;5;28;01mimport\u001b[39;00m \u001b[38;5;21;01mio\u001b[39;00m\n\u001b[0;32m      5\u001b[0m     conn \u001b[38;5;241m=\u001b[39m connect\u001b[38;5;241m.\u001b[39mget_db_connection()\n",
      "\u001b[1;31mModuleNotFoundError\u001b[0m: No module named 'modules'"
     ]
    }
   ],
   "source": []
  }
 ],
 "metadata": {
  "kernelspec": {
   "display_name": "Python 3 (ipykernel)",
   "language": "python",
   "name": "python3"
  },
  "language_info": {
   "codemirror_mode": {
    "name": "ipython",
    "version": 3
   },
   "file_extension": ".py",
   "mimetype": "text/x-python",
   "name": "python",
   "nbconvert_exporter": "python",
   "pygments_lexer": "ipython3",
   "version": "3.12.7"
  }
 },
 "nbformat": 4,
 "nbformat_minor": 5
}
